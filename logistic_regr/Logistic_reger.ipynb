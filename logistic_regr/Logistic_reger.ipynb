{
 "cells": [
  {
   "cell_type": "code",
   "execution_count": 21,
   "id": "d51b4e98-add2-477f-878a-9220cadbcdda",
   "metadata": {},
   "outputs": [
    {
     "name": "stdout",
     "output_type": "stream",
     "text": [
      "     Gender  Age  EstimatedSalary  Purchased\n",
      "0         1   19            19000          0\n",
      "1         1   35            20000          0\n",
      "2         0   26            43000          0\n",
      "3         0   27            57000          0\n",
      "4         1   19            76000          0\n",
      "..      ...  ...              ...        ...\n",
      "395       0   46            41000          1\n",
      "396       1   51            23000          1\n",
      "397       0   50            20000          1\n",
      "398       1   36            33000          0\n",
      "399       0   49            36000          1\n",
      "\n",
      "[400 rows x 4 columns]\n",
      "[0 1 0 1 0 0 1 0 0 0 0 1 0 0 0 0 1 1 0 1 0 0 0 1 0 1 1 0 1 0 0 0 1 0 1 0 0\n",
      " 0 0 0 0 0 0 0 0 1 0 0 1 0 0 1 0 0 0 0 1 0 0 0 0 0 1 0 0 0 1 1 0 0 1 0 0 0\n",
      " 0 0 1 1 0 0 0 0 1 0 1 0 0 1 0 0 1 0 0 0 0 0 1 0 1 0 1 0 0 0 0 1 0 0 1 0 0\n",
      " 0 1 0 1 0 0 0 0 0]\n",
      "[2.12716321e-01 9.81732523e-01 1.05270496e-02 8.59472931e-01\n",
      " 7.41284951e-03 3.08989852e-02 8.79134736e-01 5.16008680e-02\n",
      " 3.90888843e-01 4.11689971e-01 9.81301446e-02 6.66291662e-01\n",
      " 3.99802788e-03 8.30955457e-04 9.54704206e-02 4.08248708e-01\n",
      " 6.48409778e-01 6.38512543e-01 1.34828362e-01 9.30610403e-01\n",
      " 1.50115733e-03 6.15040940e-02 3.19882774e-01 9.72102317e-01\n",
      " 7.71827394e-04 5.35194078e-01 5.46023229e-01 1.29046837e-01\n",
      " 9.88165377e-01 6.18159136e-04 3.49189490e-01 4.84697882e-03\n",
      " 7.59959545e-01 4.81030421e-02 6.70806198e-01 1.73255597e-01\n",
      " 1.37382829e-01 1.75565491e-01 5.47542577e-03 2.69148753e-03\n",
      " 4.57747369e-01 6.42334749e-03 2.02878016e-03 2.96790078e-01\n",
      " 2.84611700e-03 9.21881003e-01 3.19472604e-02 5.23091963e-02\n",
      " 5.29824111e-01 3.78204606e-02 2.51702174e-02 9.18682318e-01\n",
      " 1.29233664e-01 2.60715077e-02 2.26371103e-01 5.29101487e-03\n",
      " 9.93359471e-01 8.95618901e-02 7.62690020e-02 8.15148060e-02\n",
      " 2.00898543e-01 7.53669285e-02 9.23409495e-01 4.78504967e-02\n",
      " 2.39570639e-02 1.96369638e-01 5.62496324e-01 9.65115526e-01\n",
      " 1.76608678e-01 2.82373436e-01 9.85553004e-01 8.30183728e-03\n",
      " 1.85751647e-02 1.95667357e-03 4.11652555e-01 5.95369849e-02\n",
      " 9.94684960e-01 6.51681206e-01 5.37534958e-02 2.13974936e-01\n",
      " 1.34177457e-02 3.10537509e-01 7.62873741e-01 2.41865865e-01\n",
      " 7.85485964e-01 3.52191349e-01 2.59186830e-01 7.87673086e-01\n",
      " 3.99243675e-02 1.39823521e-02 8.77403146e-01 8.38217675e-02\n",
      " 2.64777537e-01 4.17365792e-01 3.31001465e-03 3.06323675e-01\n",
      " 9.96966668e-01 4.02973644e-01 9.90311495e-01 3.89214914e-01\n",
      " 9.91542104e-01 2.48577025e-01 3.35793350e-01 2.35977274e-03\n",
      " 7.33764335e-02 5.44728921e-01 3.52464673e-01 1.78511259e-01\n",
      " 9.27751493e-01 1.98335528e-01 2.66208731e-02 3.07499827e-01\n",
      " 8.33970862e-01 4.94168529e-01 7.80652810e-01 4.77663563e-03\n",
      " 2.55852501e-03 3.18748142e-01 3.19916384e-01 1.12224255e-01]\n"
     ]
    },
    {
     "name": "stderr",
     "output_type": "stream",
     "text": [
      "C:\\ProgramData\\anaconda3\\Lib\\site-packages\\sklearn\\linear_model\\_logistic.py:469: ConvergenceWarning: lbfgs failed to converge (status=1):\n",
      "STOP: TOTAL NO. of ITERATIONS REACHED LIMIT.\n",
      "\n",
      "Increase the number of iterations (max_iter) or scale the data as shown in:\n",
      "    https://scikit-learn.org/stable/modules/preprocessing.html\n",
      "Please also refer to the documentation for alternative solver options:\n",
      "    https://scikit-learn.org/stable/modules/linear_model.html#logistic-regression\n",
      "  n_iter_i = _check_optimize_result(\n"
     ]
    }
   ],
   "source": [
    "##Logistic Regression\n",
    "\n",
    "#load data\n",
    "import pandas as pd\n",
    "data=pd.read_csv(\"User_Data.csv\")\n",
    "#print(data)\n",
    "\n",
    "#data cleaning\n",
    "data.drop(\"User ID\",axis=1,inplace=True)  #to remove user id column from data\n",
    "#print(data)\n",
    "\n",
    "data.isna().sum() #to check missing values in data\n",
    "\n",
    "#data preprocessing\n",
    "from sklearn.preprocessing import LabelEncoder\n",
    "le=LabelEncoder()\n",
    "data[\"Gender\"]=le.fit_transform(data[\"Gender\"])\n",
    "print(data)\n",
    "\n",
    "#spliting data into x and y\n",
    "x=data.iloc[:,:-1]\n",
    "y=data.iloc[:,-1]\n",
    "\n",
    "#splitting data into training and testing\n",
    "from sklearn.model_selection import train_test_split\n",
    "x_train,x_test,y_train,y_test=train_test_split(x,y,train_size=0.7,random_state=42)\n",
    "\n",
    "##learn and train using logistic regression algorithm\n",
    "from sklearn.linear_model import LogisticRegression\n",
    "model=LogisticRegression()\n",
    "model.fit(x_train,y_train) #train model on provided data← yahi step model ko sikhata hai\n",
    "yp=model.predict(x_test) #testing model to predict the values\n",
    "print(yp)\n",
    "from sklearn.metrics import accuracy_score\n",
    "accuracy_score(y_test,yp)         #to test the accuracy of predicted values compared to actual values\n",
    "\n",
    "probs = model.predict_proba(x_test)\n",
    "print(probs[:, 1])  # Only class 1 (Purchase) ke probabilities"
   ]
  },
  {
   "cell_type": "code",
   "execution_count": null,
   "id": "00eceaf6-b5c7-4b44-805d-b7c480483054",
   "metadata": {},
   "outputs": [],
   "source": []
  }
 ],
 "metadata": {
  "kernelspec": {
   "display_name": "Python [conda env:base] *",
   "language": "python",
   "name": "conda-base-py"
  },
  "language_info": {
   "codemirror_mode": {
    "name": "ipython",
    "version": 3
   },
   "file_extension": ".py",
   "mimetype": "text/x-python",
   "name": "python",
   "nbconvert_exporter": "python",
   "pygments_lexer": "ipython3",
   "version": "3.12.7"
  }
 },
 "nbformat": 4,
 "nbformat_minor": 5
}
